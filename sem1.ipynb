{
 "cells": [
  {
   "cell_type": "code",
   "execution_count": 57,
   "metadata": {},
   "outputs": [
    {
     "name": "stdout",
     "output_type": "stream",
     "text": [
      "Москва\n",
      "Пенза\n",
      "ДА\n"
     ]
    }
   ],
   "source": [
    "city1 = input()\n",
    "city2 = input()\n",
    "\n",
    "#исключаем возможность прошлогоднего маршрута\n",
    "if (city1 == 'Тула' and city2 == 'Пенза') or (city2 == 'Тула' and city1 == 'Пенза'):\n",
    "    print('НЕТ')\n",
    "\n",
    "#исключаем возможность того, что путешествие будет не в различные города\n",
    "elif (city1 == 'Тула' and city2 == 'Тула') or (city1 == 'Пенза' and city2 == 'Пенза'):\n",
    "    print('НЕТ')\n",
    "\n",
    "#учитываем желание Жени, чтобы либо первый город был Тула, либо второй город была Пенза \n",
    "elif (city1 == 'Тула' and city2 != 'Пенза') or (city1 != 'Тула' and city2 == 'Пенза'):\n",
    "    print('ДА')\n",
    "\n",
    "else:\n",
    "    print('НЕТ')"
   ]
  },
  {
   "cell_type": "code",
   "execution_count": 59,
   "metadata": {},
   "outputs": [
    {
     "name": "stdout",
     "output_type": "stream",
     "text": [
      "120\n",
      "100\n",
      "900\n",
      "900\n",
      "120\n",
      "100\n"
     ]
    }
   ],
   "source": [
    "a = int(input())\n",
    "b = int(input())\n",
    "c = int(input())\n",
    "\n",
    "#Первым делом находим максимальное число из трех. Пусть максимальное число - а\n",
    "#Если а больше b, то проверяем больше ли а, чем с\n",
    "if a > b:\n",
    "    if a > c:\n",
    "        #если а больше и b, и с => а максимальное число.\n",
    "        pass\n",
    "    \n",
    "    else:\n",
    "        #ecли а больше, чем b, но меньше, чем с => с максимальное число\n",
    "        #=> переобозначим с и а (теперь а имеет значение с и наоборот)\n",
    "        c, a = a, c\n",
    "\n",
    "#Если а меньше b переобозначим b и а\n",
    "if a < b:    \n",
    "    b, a = a, b\n",
    "    #Если теперь а больше с, то а максимальное число\n",
    "    if a > c:\n",
    "        pass\n",
    "    #Если нет, то с максимальное число и переобозначим с и а\n",
    "    else:\n",
    "        c, a = a, c\n",
    "\n",
    "#Теперь найдем второе из трех по величине число. Пусть это b\n",
    "#Если b больше, чем с => b второе по величине.\n",
    "if b > c:\n",
    "    pass\n",
    "\n",
    "#Если нет, то с второе по величине => переобозначим b и с.\n",
    "if b < c:\n",
    "    b, c = c, b\n",
    "    \n",
    "print(a)\n",
    "print(b)\n",
    "print(c)"
   ]
  },
  {
   "cell_type": "code",
   "execution_count": null,
   "metadata": {},
   "outputs": [],
   "source": [
    "! jupyter nbconvert --to html sem1.ipynb"
   ]
  },
  {
   "cell_type": "code",
   "execution_count": null,
   "metadata": {},
   "outputs": [],
   "source": []
  }
 ],
 "metadata": {
  "kernelspec": {
   "display_name": "Python 3",
   "language": "python",
   "name": "python3"
  },
  "language_info": {
   "codemirror_mode": {
    "name": "ipython",
    "version": 3
   },
   "file_extension": ".py",
   "mimetype": "text/x-python",
   "name": "python",
   "nbconvert_exporter": "python",
   "pygments_lexer": "ipython3",
   "version": "3.7.3"
  }
 },
 "nbformat": 4,
 "nbformat_minor": 2
}
